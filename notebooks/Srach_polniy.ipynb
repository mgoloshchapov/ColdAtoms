{
 "cells": [
  {
   "cell_type": "code",
   "execution_count": 1,
   "metadata": {},
   "outputs": [],
   "source": [
    "include(\"../src/ColdAtoms.jl\")\n",
    "using .ColdAtoms"
   ]
  },
  {
   "cell_type": "code",
   "execution_count": 2,
   "metadata": {},
   "outputs": [],
   "source": [
    "using QuantumOptics\n",
    "using PyPlot\n",
    "using BenchmarkTools"
   ]
  },
  {
   "cell_type": "markdown",
   "metadata": {},
   "source": [
    "TimeDependentSum can cause data race"
   ]
  },
  {
   "cell_type": "code",
   "execution_count": 3,
   "metadata": {},
   "outputs": [],
   "source": [
    "#Default simulation parameters\n",
    "include(\"../params/default.jl\")\n",
    "\n",
    "N = 100;\n",
    "samples, acc_rate = samples_generate(trap_params, atom_params, N; skip=5000, freq=1000);\n",
    "\n",
    "Ωr = 2π * 35.0;\n",
    "red_laser_params = [Ωr, wr, zr];\n",
    "detuning_params = [Δ0, δ_twophoton(Ωr, Ωb, Δ0)];\n",
    "\n",
    "T0 = T_twophoton(Ωr, Ωb, Δ0);\n",
    "tspan = [0.0:T0/20:2.5*T0;];\n",
    "ψ0 = g;"
   ]
  },
  {
   "cell_type": "code",
   "execution_count": 5,
   "metadata": {},
   "outputs": [
    {
     "name": "stdout",
     "output_type": "stream",
     "text": [
      " 36.557074 seconds (142.80 M allocations: 4.872 GiB, 2.35% gc time)\n"
     ]
    }
   ],
   "source": [
    "@time ρ_mean, ρ2_mean = \n",
    "    simulation(\n",
    "        tspan, ψ0, \n",
    "        \n",
    "        atom_params,\n",
    "        trap_params,\n",
    "        samples,\n",
    "        \n",
    "        f,\n",
    "        red_laser_phase_amplitudes,\n",
    "        blue_laser_phase_amplitudes,\n",
    "        \n",
    "        red_laser_params,\n",
    "        blue_laser_params,\n",
    "        \n",
    "        detuning_params,\n",
    "        decay_params\n",
    "    );"
   ]
  },
  {
   "cell_type": "code",
   "execution_count": 7,
   "metadata": {},
   "outputs": [
    {
     "name": "stdout",
     "output_type": "stream",
     "text": [
      " 51.652582 seconds (142.80 M allocations: 4.873 GiB, 2.09% gc time)\n"
     ]
    }
   ],
   "source": [
    "@time ρ_mean_parallel, ρ2_mean_parallel = \n",
    "    ColdAtoms.simulation_parallel(\n",
    "        tspan, ψ0, \n",
    "        \n",
    "        atom_params,\n",
    "        trap_params,\n",
    "        samples,\n",
    "        \n",
    "        f,\n",
    "        red_laser_phase_amplitudes,\n",
    "        blue_laser_phase_amplitudes,\n",
    "        \n",
    "        red_laser_params,\n",
    "        blue_laser_params,\n",
    "        \n",
    "        detuning_params,\n",
    "        decay_params\n",
    "    );"
   ]
  },
  {
   "cell_type": "code",
   "execution_count": 21,
   "metadata": {},
   "outputs": [
    {
     "data": {
      "image/png": "[encoded data removed]",
      "text/plain": [
       "Figure(PyObject <Figure size 640x480 with 1 Axes>)"
      ]
     },
     "metadata": {},
     "output_type": "display_data"
    }
   ],
   "source": [
    "figure()\n",
    "plot(tspan, real(expect(r ⊗ dagger(r), ρ_mean)))\n",
    "plot(tspan, real(expect(r ⊗ dagger(r), ρ_mean_parllel)))\n",
    "gcf()"
   ]
  },
  {
   "cell_type": "code",
   "execution_count": 5,
   "metadata": {},
   "outputs": [
    {
     "name": "stdout",
     "output_type": "stream",
     "text": [
      " 33.819570 seconds (142.80 M allocations: 4.873 GiB, 2.77% gc time)\n"
     ]
    }
   ],
   "source": [
    "tspan = [0.0:T0/20:2.5*T0;];\n",
    "@time simulation(\n",
    "    tspan, ψ0, \n",
    "    \n",
    "    atom_params,\n",
    "    trap_params,\n",
    "    samples,\n",
    "    \n",
    "    f,\n",
    "    red_laser_phase_amplitudes,\n",
    "    blue_laser_phase_amplitudes,\n",
    "    \n",
    "    red_laser_params,\n",
    "    blue_laser_params,\n",
    "    \n",
    "    detuning_params,\n",
    "    decay_params\n",
    ");"
   ]
  },
  {
   "cell_type": "code",
   "execution_count": 7,
   "metadata": {},
   "outputs": [
    {
     "name": "stdout",
     "output_type": "stream",
     "text": [
      "  0.000068 seconds (1.05 k allocations: 145.547 KiB)\n"
     ]
    }
   ],
   "source": [
    "tspan = [0.0:T0/20:2.5*T0;];\n",
    "@time ColdAtoms.simulation_parallel(\n",
    "    tspan, ψ0, \n",
    "    \n",
    "    atom_params,\n",
    "    trap_params,\n",
    "    samples,\n",
    "    \n",
    "    f,\n",
    "    red_laser_phase_amplitudes,\n",
    "    blue_laser_phase_amplitudes,\n",
    "    \n",
    "    red_laser_params,\n",
    "    blue_laser_params,\n",
    "    \n",
    "    detuning_params,\n",
    "    decay_params\n",
    ");"
   ]
  },
  {
   "cell_type": "code",
   "execution_count": null,
   "metadata": {},
   "outputs": [],
   "source": [
    "100 * 0.15"
   ]
  }
 ],
 "metadata": {
  "kernelspec": {
   "display_name": "Julia 1.9.3",
   "language": "julia",
   "name": "julia-1.9"
  },
  "language_info": {
   "file_extension": ".jl",
   "mimetype": "application/julia",
   "name": "julia",
   "version": "1.9.3"
  }
 },
 "nbformat": 4,
 "nbformat_minor": 2
}
