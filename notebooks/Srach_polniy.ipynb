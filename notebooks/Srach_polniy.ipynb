{
 "cells": [
  {
   "cell_type": "code",
   "execution_count": 1,
   "metadata": {},
   "outputs": [],
   "source": [
    "include(\"../src/ColdAtoms.jl\")\n",
    "using .ColdAtoms"
   ]
  },
  {
   "cell_type": "code",
   "execution_count": 2,
   "metadata": {},
   "outputs": [],
   "source": [
    "using PyPlot\n",
    "using QuantumOptics\n",
    "using BenchmarkTools"
   ]
  },
  {
   "cell_type": "markdown",
   "metadata": {},
   "source": [
    "TimeDependentSum can cause data race"
   ]
  },
  {
   "cell_type": "code",
   "execution_count": 14,
   "metadata": {},
   "outputs": [],
   "source": [
    "#Default simulation parameters\n",
    "include(\"../params/default.jl\")\n",
    "\n",
    "N = 300;\n",
    "samples, acc_rate = samples_generate(trap_params, atom_params, N; skip=5000, freq=1000);\n",
    "\n",
    "Ωr = 2π * 5.0 * 35.0;\n",
    "red_laser_params = [Ωr, wr, zr];\n",
    "detuning_params = [Δ0, δ_twophoton(Ωr, Ωb, Δ0)];\n",
    "\n",
    "T0 = T_twophoton(Ωr, Ωb, Δ0);\n",
    "tspan = [0.0:T0/30:2.5*T0;];\n",
    "ψ0 = g;"
   ]
  },
  {
   "cell_type": "code",
   "execution_count": 27,
   "metadata": {},
   "outputs": [
    {
     "data": {
      "text/plain": [
       "120.53333333333335"
      ]
     },
     "metadata": {},
     "output_type": "display_data"
    }
   ],
   "source": [
    "Ωr_required(2π*4.0, 2π * 60.0, 2π * 904) / (2π)"
   ]
  },
  {
   "cell_type": "code",
   "execution_count": 17,
   "metadata": {},
   "outputs": [],
   "source": [
    "ρ_mean, ρ2_mean = \n",
    "    simulation(\n",
    "        tspan, ψ0, \n",
    "        \n",
    "        atom_params,\n",
    "        trap_params,\n",
    "        samples,\n",
    "        \n",
    "        f,\n",
    "        red_laser_phase_amplitudes,\n",
    "        blue_laser_phase_amplitudes,\n",
    "        \n",
    "        red_laser_params,\n",
    "        blue_laser_params,\n",
    "        \n",
    "        detuning_params,\n",
    "        decay_params;\n",
    "        parallel=false\n",
    "    );"
   ]
  },
  {
   "cell_type": "code",
   "execution_count": 23,
   "metadata": {},
   "outputs": [
    {
     "data": {
      "text/plain": [
       "(0.1, 0.2, 0.0)"
      ]
     },
     "metadata": {},
     "output_type": "display_data"
    }
   ],
   "source": [
    "function add_contrast(Pg, Pr, ϵ, ϵt, η)\n",
    "    Pg_temp = η*(1.0 - ϵ) .+ (1.0 - η)*(1.0 - ϵ)*(Pg + ϵt * Pr);\n",
    "    Pr_temp = η*ϵ .+ (1.0 - η)*(ϵ*Pg + (1.0 - ϵt + ϵ*ϵt)*Pr);\n",
    "    return Pg_temp, Pr_temp\n",
    "end;\n",
    "\n",
    "ϵ, ϵt, η = 0.1, 0.2, 0.0"
   ]
  },
  {
   "cell_type": "code",
   "execution_count": 24,
   "metadata": {},
   "outputs": [
    {
     "data": {
      "image/png": "[encoded data removed]",
      "text/plain": [
       "Figure(PyObject <Figure size 800x400 with 1 Axes>)"
      ]
     },
     "metadata": {},
     "output_type": "display_data"
    }
   ],
   "source": [
    "Pg = real(expect(g ⊗ dagger(g), ρ_mean)); \n",
    "Pr = real(expect(r ⊗ dagger(r), ρ_mean));\n",
    "Pg_temp, Pr_temp = add_contrast(Pg, Pr, ϵ, ϵt, η);\n",
    "\n",
    "figure(figsize=(8,4))\n",
    "plot(tspan / (maximum(tspa)), 1.0 .- Pr_temp)\n",
    "xlim(0.0, maximum(tspan))\n",
    "ylim(0.0, 1.0)\n",
    "gcf()"
   ]
  },
  {
   "cell_type": "code",
   "execution_count": 5,
   "metadata": {},
   "outputs": [
    {
     "name": "stdout",
     "output_type": "stream",
     "text": [
      " 33.819570 seconds (142.80 M allocations: 4.873 GiB, 2.77% gc time)\n"
     ]
    }
   ],
   "source": [
    "tspan = [0.0:T0/20:2.5*T0;];\n",
    "@time simulation(\n",
    "    tspan, ψ0, \n",
    "    \n",
    "    atom_params,\n",
    "    trap_params,\n",
    "    samples,\n",
    "    \n",
    "    f,\n",
    "    red_laser_phase_amplitudes,\n",
    "    blue_laser_phase_amplitudes,\n",
    "    \n",
    "    red_laser_params,\n",
    "    blue_laser_params,\n",
    "    \n",
    "    detuning_params,\n",
    "    decay_params\n",
    ");"
   ]
  },
  {
   "cell_type": "code",
   "execution_count": 32,
   "metadata": {},
   "outputs": [
    {
     "ename": "MethodError",
     "evalue": "MethodError: Cannot `convert` an object of type var\"#377#381\"{Int64} to an object of type var\"#f#380\"\n\nClosest candidates are:\n  convert(::Type{T}, !Matched::T) where T\n   @ Base Base.jl:64\n",
     "output_type": "error",
     "traceback": [
      "MethodError: Cannot `convert` an object of type var\"#377#381\"{Int64} to an object of type var\"#f#380\"\n",
      "\n",
      "Closest candidates are:\n",
      "  convert(::Type{T}, !Matched::T) where T\n",
      "   @ Base Base.jl:64\n",
      "\n",
      "\n",
      "Stacktrace:\n",
      "  [1] setindex!(A::Vector{var\"#f#380\"}, x::Function, i1::Int64)\n",
      "    @ Base ./array.jl:969\n",
      "  [2] _unsafe_copyto!(dest::Vector{var\"#f#380\"}, doffs::Int64, src::Vector{var\"#377#381\"{Int64}}, soffs::Int64, n::Int64)\n",
      "    @ Base ./array.jl:250\n",
      "  [3] unsafe_copyto!\n",
      "    @ ./array.jl:304 [inlined]\n",
      "  [4] _copyto_impl!\n",
      "    @ ./array.jl:327 [inlined]\n",
      "  [5] copyto!\n",
      "    @ ./array.jl:314 [inlined]\n",
      "  [6] copyto!\n",
      "    @ ./array.jl:339 [inlined]\n",
      "  [7] copyto_axcheck!\n",
      "    @ ./abstractarray.jl:1182 [inlined]\n",
      "  [8] Vector{var\"#f#380\"}(x::Vector{var\"#377#381\"{Int64}})\n",
      "    @ Base ./array.jl:621\n",
      "  [9] convert(#unused#::Type{Vector{var\"#f#380\"}}, a::Vector{var\"#377#381\"{Int64}})\n",
      "    @ Base ./array.jl:613\n",
      " [10] setproperty!(x::TimeDependentSum{NLevelBasis{Int64}, NLevelBasis{Int64}, Vector{var\"#f#380\"}, LazySum{NLevelBasis{Int64}, NLevelBasis{Int64}, Vector{Float64}, Vector{Operator{NLevelBasis{Int64}, NLevelBasis{Int64}, Matrix{ComplexF64}}}}, Float64}, f::Symbol, v::Vector{var\"#377#381\"{Int64}})\n",
      "    @ Base ./Base.jl:38\n",
      " [11] test1(N::Int64)\n",
      "    @ Main ~/ColdAtoms/notebooks/Srach_polniy.ipynb:10\n",
      " [12] top-level scope\n",
      "    @ ~/ColdAtoms/notebooks/Srach_polniy.ipynb:33"
     ]
    }
   ],
   "source": [
    "tspan = [0.0:0.01:1.0;];\n",
    "\n",
    "function test1(N)\n",
    "    ψ = [[zero(g) for _ in 1:length(tspan)] for _ in 1:N];\n",
    "    f(t) = 0.0;\n",
    "    H1 = TimeDependentSum([f, f], [g ⊗ dagger(p), p ⊗ dagger(g)]);\n",
    "\n",
    "    for i in 1:N\n",
    "        f(t, i) = sin(t * i)\n",
    "        H1.coefficients = [t -> f(t, i)];\n",
    "        H1.current_time = 0.0;\n",
    "        _, ψ[i] = timeevolution.schroedinger_dynamic(tspan, g, H1)\n",
    "    end;\n",
    "\n",
    "    return ψ\n",
    "end;\n",
    "\n",
    "\n",
    "function test2(N)\n",
    "    ψ = [[zero(g) for _ in 1:length(tspan)] for _ in 1:N];\n",
    "\n",
    "    for i in 1:N\n",
    "        H2 = TimeDependentSum([t -> sin(t*i), t -> sin(t*i)], [g ⊗ dagger(p), p ⊗ dagger(g)]);\n",
    "        _, ψ[i] = timeevolution.schroedinger_dynamic(tspan, g, H2)\n",
    "    end;\n",
    "    return ψ\n",
    "end;\n",
    "\n",
    "\n",
    "ψ1, ψ2, = test2(2);\n",
    "\n",
    "ψ3, ψ4, = test1(2);\n",
    "\n",
    "\n",
    "figure()\n",
    "plot(tspan, expect(g ⊗ dagger(g), ψ1))\n",
    "plot(tspan, expect(g ⊗ dagger(g), ψ3))\n",
    "plot(tspan, expect(g ⊗ dagger(g), ψ2))\n",
    "plot(tspan, expect(g ⊗ dagger(g), ψ4))\n",
    "gcf()"
   ]
  },
  {
   "cell_type": "code",
   "execution_count": 15,
   "metadata": {},
   "outputs": [
    {
     "data": {
      "text/plain": [
       "0.0"
      ]
     },
     "metadata": {},
     "output_type": "display_data"
    }
   ],
   "source": [
    "fieldnames(typeof(H))\n"
   ]
  },
  {
   "cell_type": "code",
   "execution_count": 7,
   "metadata": {},
   "outputs": [
    {
     "name": "stdout",
     "output_type": "stream",
     "text": [
      "  0.000068 seconds (1.05 k allocations: 145.547 KiB)\n"
     ]
    }
   ],
   "source": [
    "tspan = [0.0:T0/20:2.5*T0;];\n",
    "@time ColdAtoms.simulation_parallel(\n",
    "    tspan, ψ0, \n",
    "    \n",
    "    atom_params,\n",
    "    trap_params,\n",
    "    samples,\n",
    "    \n",
    "    f,\n",
    "    red_laser_phase_amplitudes,\n",
    "    blue_laser_phase_amplitudes,\n",
    "    \n",
    "    red_laser_params,\n",
    "    blue_laser_params,\n",
    "    \n",
    "    detuning_params,\n",
    "    decay_params\n",
    ");"
   ]
  },
  {
   "cell_type": "code",
   "execution_count": null,
   "metadata": {},
   "outputs": [],
   "source": [
    "100 * 0.15"
   ]
  }
 ],
 "metadata": {
  "kernelspec": {
   "display_name": "Julia 1.9.3",
   "language": "julia",
   "name": "julia-1.9"
  },
  "language_info": {
   "file_extension": ".jl",
   "mimetype": "application/julia",
   "name": "julia",
   "version": "1.9.3"
  }
 },
 "nbformat": 4,
 "nbformat_minor": 2
}
