{
 "cells": [
  {
   "cell_type": "code",
   "execution_count": 7,
   "id": "af58c5a9",
   "metadata": {},
   "outputs": [],
   "source": [
    "using QuantumOptics\n",
    "using PyPlot\n",
    "using Statistics, Distributions, Random\n",
    "using PhysicalConstants.CODATA2018: c_0, k_B, m_u\n",
    "using Unitful\n",
    "\n",
    "using DataFrames\n",
    "using CSV\n",
    "\n",
    "using DifferentialEquations\n",
    "using LinearAlgebra\n",
    "\n",
    "using SplitApplyCombine"
   ]
  },
  {
   "cell_type": "code",
   "execution_count": 8,
   "id": "7c03295c",
   "metadata": {},
   "outputs": [],
   "source": [
    "include(\"../src/atom_sampler.jl\");\n",
    "include(\"../src/lasernoise_sampler.jl\");\n",
    "include(\"../src/utilities.jl\");\n",
    "include(\"../src/rydberg_model.jl\");"
   ]
  },
  {
   "cell_type": "markdown",
   "id": "87e92b8f",
   "metadata": {},
   "source": [
    "### Atom in dipole trap, choice of constants."
   ]
  },
  {
   "cell_type": "markdown",
   "id": "d8776702",
   "metadata": {},
   "source": [
    "__Potential energy__\n",
    "\n",
    "$\\Pi = U_0 \\left(1 - \\frac{1}{1+(z/z_0)^2} exp\\left(\\frac{-2(x^2+y^2+z^2)}{w_0^2(1+(z/z_0)^2)}\\right) \\right)$\n",
    "\n",
    "\n",
    "__Kinetic energy__\n",
    "\n",
    "$K = \\frac{m V^2}{2}$\n",
    "\n",
    "\n",
    "__Total energy__\n",
    "\n",
    "$E = \\Pi + K$\n",
    "\n",
    "\n",
    "\n",
    "__Constants__\n",
    "\n",
    "$E = \\varepsilon E_0, \\;\\;\\; E_0 = 10\\mu K$\n",
    "\n",
    "\n",
    "$kT = t E_0$ \n",
    "\n",
    "\n",
    "$V = v v_0, \\;\\;\\; v_0 = \\sqrt{\\frac{E_0}{m}}$\n",
    "\n",
    "\n",
    "$R = r r_0, \\;\\;\\; r_0 = 1\\mu m$\n",
    "\n",
    "\n",
    "__Dimensionless units__\n",
    "\n",
    "\n",
    "$\\Pi =  u_0 E_0 \\left(1 - \\frac{1}{1+(z/z_0)^2} exp\\left(\\frac{-2(x^2+y^2+z^2)}{w_0^2(1+(z/z_0)^2)}\\right) \\right)$\n",
    "\n",
    "\n",
    "$K = E_0\\frac{v^2}{2}$\n",
    "\n",
    "\n",
    "$p(x,y,z,v_x,v_y,v_z) \\sim exp\\left(- \\frac{u_0}{t}\\left(1 - \\frac{1}{1+(z/z_0)^2} exp\\left(\\frac{-2(x^2+y^2+z^2)}{w_0^2(1+(z/z_0)^2)}\\right) \\right) \\right)exp\\left(- \\frac{v_x^2+v_y^2+v_z^2}{2t} \\right)$\n",
    "\n",
    "\n",
    "Markov Chain Monte Carlo is used to generate initial conditions $(x,y,z,v_x,v_y,v_z)|_{t=0}$"
   ]
  },
  {
   "cell_type": "markdown",
   "id": "df0aac4d",
   "metadata": {},
   "source": [
    "__Harmonic approximation__\n",
    "\n",
    "\n",
    "For $T\\ll U_0$ gaussian potential can be replaced with harmonic one.\n",
    "\n",
    "$U(x,y,z)=U_0\\left( \\frac{2(x^2+y^2)}{w_0^2} + \\frac{z^2}{z_0^2}\\right) = \n",
    "\\frac{m \\omega_r ^2 (x^2+y^2)}{2} + \\frac{m \\omega_z ^2 (z^2)}{2}$, where \n",
    "\n",
    "$\\omega_r = \\sqrt{\\frac{4 U_0}{m w_0^2}} = \\frac{2}{w_0} \\sqrt{\\frac{U_0}{E_0}}\\sqrt{\\frac{E_0}{m}} = 2 \\frac{v_0}{w_0}  \\sqrt{u_0}$\n",
    "\n",
    "$\\omega_z = \\sqrt{\\frac{2 U_0}{m z_0^2}} = \\sqrt{2}\\frac{v_0}{z_0}  \\sqrt{u_0}$.\n",
    "\n",
    "\n",
    "_In that case atom dynamics is integrable:_\n",
    "\n",
    "$H = \\frac{m \\omega_r ^2 (x^2+y^2)}{2} + \\frac{m \\omega_z ^2 (z^2)}{2} + \\frac{m(v_x^2+v_y^2+v_z^2)}{2}$\n",
    "\n",
    "$x(t)=x_0 \\cos(\\omega_r t) + \\frac{v_{x0}}{\\omega_r}\\sin(\\omega_r t)$,\n",
    "\n",
    "$y(t)=y_0 \\cos(\\omega_r t) + \\frac{v_{y0}}{\\omega_r}\\sin(\\omega_r t)$,\n",
    "\n",
    "$z(t)=z_0 \\cos(\\omega_r t) + \\frac{v_{z0}}{\\omega_z}\\sin(\\omega_r t)$\n",
    "\n",
    "$(x_0,y_0,z_0,v_{x0},v_{y0},v_{z0})$ can be sampled using Monte-Carlo"
   ]
  },
  {
   "cell_type": "code",
   "execution_count": 9,
   "id": "48fc7111",
   "metadata": {},
   "outputs": [],
   "source": [
    "c = ustrip(u\"m/s\", c_0);  #Speed of light\n",
    "kB = ustrip(u\"J/K\", k_B)  #Boltzmann constant\n",
    "mu = ustrip(u\"kg\", m_u);  #Unit of atomic mass\n",
    "\n",
    "m = 86.9091835;       #Rb87 mass in a.u.\n",
    "E0 = kB * 1e-6;       #Characteristic energy in μK\n",
    "g0 = 9.81 * 1e-6;     #Gravity free fall acceleration\n",
    "vconst = sqrt(E0/mu); #Useful constant for kinetic energy\n",
    "r0 = 1e-6;            #Characteristic distance in m\n",
    "\n",
    "\n",
    "T = 50.0;\n",
    "U0 = 1000.0;\n",
    "w0 = 1.0;\n",
    "λ = 0.852;\n",
    "z0 = π*w0^2/λ;"
   ]
  },
  {
   "cell_type": "code",
   "execution_count": 10,
   "id": "a178c883",
   "metadata": {},
   "outputs": [],
   "source": [
    "atom_params = [m, T];\n",
    "trap_params = [U0, w0, z0];"
   ]
  },
  {
   "cell_type": "code",
   "execution_count": 11,
   "id": "f0890ff2",
   "metadata": {},
   "outputs": [
    {
     "name": "stdout",
     "output_type": "stream",
     "text": [
      "0.2918181818181818\n",
      "0.2696363636363636\n"
     ]
    }
   ],
   "source": [
    "samples, acc_rate = boltzmann_samples(trap_params, atom_params, 1000);\n",
    "samples_h, acc_rate_h = boltzmann_samples(trap_params, atom_params, 1000; harmonic=true);\n",
    "println(acc_rate)\n",
    "println(acc_rate_h)"
   ]
  },
  {
   "cell_type": "code",
   "execution_count": 12,
   "id": "7ee2eb02",
   "metadata": {},
   "outputs": [],
   "source": [
    "x, y, z, vx, vy, vz = invert(samples);\n",
    "x_h, y_h, z_h, vx_h, vy_h, vz_h = invert(samples_h);"
   ]
  },
  {
   "cell_type": "code",
   "execution_count": 13,
   "id": "aad99b7a",
   "metadata": {},
   "outputs": [],
   "source": [
    "\n",
    "#Due to atom dynamics\n",
    "function Ω(x, y, z, Ω0, w0, z0)\n",
    "    return Ω0 .* A(x, y, z, w0, z0) .* A_phase(x, y, z, w0, z0);\n",
    "end;\n",
    "\n",
    "\n",
    "#Due to Doppler shift for red laser\n",
    "function Δ(vz, w0, z0)\n",
    "    k = 2 * z0/w0^2;\n",
    "    return k * vz\n",
    "end;\n",
    "\n",
    "\n",
    "#Due to Doppler shifts for red and blue lasers\n",
    "function δ(vz, wr0, zr0, wb0, zb0)\n",
    "    kr = 2 * zr0/wr0^2;\n",
    "    kb = 2 * zb0/wb0^2;\n",
    "    \n",
    "    return (kr - kb) * vz\n",
    "end;"
   ]
  },
  {
   "cell_type": "markdown",
   "id": "0b767b98-32db-41c9-b2b6-a8b81dd496de",
   "metadata": {},
   "source": [
    "### Atom motion in dipole tweezer as a source of decoherence.\n",
    "\n",
    "Atom motion in optical tweezer leads to several effects, which cause decoherence of Rydberg two-photon excitation:\n",
    "\n",
    "- Doppler shifts\n",
    "\n",
    "- Position-dependent Rabi frequencies\n",
    "\n",
    "- Position-dependent AC Stark shifts"
   ]
  },
  {
   "cell_type": "markdown",
   "id": "560fc71a",
   "metadata": {},
   "source": [
    "### Doppler effect in two-level system(TLS). \n",
    "\n",
    "![Doppler effect](/)"
   ]
  },
  {
   "cell_type": "code",
   "execution_count": 16,
   "id": "8b0546b8-d604-4891-afd2-522841ac3070",
   "metadata": {},
   "outputs": [],
   "source": [
    "basis = NLevelBasis(2);\n",
    "g = nlevelstate(basis, 1);\n",
    "e = nlevelstate(basis, 2);\n",
    "\n",
    "σge = g ⊗ dagger(e);\n",
    "σeg = e ⊗ dagger(g);\n",
    "ne=  e ⊗ dagger(e);"
   ]
  },
  {
   "cell_type": "code",
   "execution_count": null,
   "id": "f3759d18",
   "metadata": {},
   "outputs": [],
   "source": [
    "H = TimeDependentSum([1.0, ], [ne, σge, σeg])"
   ]
  },
  {
   "cell_type": "markdown",
   "id": "725d44a2",
   "metadata": {},
   "source": [
    "### Finite contrast, Browayes."
   ]
  },
  {
   "cell_type": "markdown",
   "id": "8ac9820f",
   "metadata": {},
   "source": [
    "- if I measure recapture probability $p_{recap}$ from switch-off time $\\tau$, I can retrieve dsitribution of atoms over velocities. It seems like $\\frac{d}{d\\tau}p_{recap}(\\tau)$ should give some insight about it.\n",
    "\n",
    "\n",
    "- $\\varepsilon ' \\simeq \\Gamma_R t_{recap}$, where $t_{recap}=\\int_{0}^{\\infty} p_{recap}(t)dt$, $\\Gamma_R $ - Rydberg lifetime\n",
    "\n",
    "\n",
    "\n",
    "- recapture probability is modeled using Monte-Carlo modelling with free-flight regime, anti-trapping"
   ]
  }
 ],
 "metadata": {
  "kernelspec": {
   "display_name": "Julia 1.8.2",
   "language": "julia",
   "name": "julia-1.8"
  },
  "language_info": {
   "file_extension": ".jl",
   "mimetype": "application/julia",
   "name": "julia",
   "version": "1.8.2"
  }
 },
 "nbformat": 4,
 "nbformat_minor": 5
}
