{
 "cells": [
  {
   "cell_type": "code",
   "execution_count": 38,
   "metadata": {},
   "outputs": [
    {
     "name": "stderr",
     "output_type": "stream",
     "text": [
      "WARNING: replacing module ColdAtoms.\n",
      "WARNING: redefinition of constant basis. This may fail, cause incorrect answers, or produce other errors.\n",
      "WARNING: redefinition of constant g. This may fail, cause incorrect answers, or produce other errors.\n",
      "WARNING: redefinition of constant operators. This may fail, cause incorrect answers, or produce other errors.\n",
      "\u001b[33m\u001b[1m┌ \u001b[22m\u001b[39m\u001b[33m\u001b[1mWarning: \u001b[22m\u001b[39mReplacing docs for `Main.ColdAtoms.Ω :: NTuple{4, Any}` in module `Main.ColdAtoms`\n",
      "\u001b[33m\u001b[1m└ \u001b[22m\u001b[39m\u001b[90m@ Base.Docs docs/Docs.jl:243\u001b[39m\n",
      "WARNING: using ColdAtoms.release_recapture in module Main conflicts with an existing identifier.\n"
     ]
    }
   ],
   "source": [
    "using PyPlot\n",
    "# using DataFrames\n",
    "# using CSV\n",
    "\n",
    "include(\"../src/ColdAtoms.jl\")\n",
    "using .ColdAtoms"
   ]
  },
  {
   "cell_type": "code",
   "execution_count": 43,
   "metadata": {},
   "outputs": [
    {
     "ename": "LoadError",
     "evalue": "TypeError: non-boolean (Nothing) used in boolean context",
     "output_type": "error",
     "traceback": [
      "TypeError: non-boolean (Nothing) used in boolean context",
      "",
      "Stacktrace:",
      " [1] release_evolve(tspan::Vector{Float64}, cord::Vector{Float64}, atom_params::Vector{Float64}, trap_params::Vector{Float64})",
      "   @ Main.ColdAtoms ~/ColdAtoms/src/basic_experiments.jl:29",
      " [2] release_recapture(tspan::Vector{Float64}, trap_params::Vector{Float64}, atom_params::Vector{Float64}, N::Int64; freq::Int64, skip::Int64, harmonic::Bool)",
      "   @ Main.ColdAtoms ~/ColdAtoms/src/basic_experiments.jl:42",
      " [3] top-level scope",
      "   @ ./In[43]:13"
     ]
    }
   ],
   "source": [
    "fontsize = 14;\n",
    "linewidth = 2.0;\n",
    "\n",
    "T0 = 10.0:2.0:80.0;\n",
    "trap_params_temp = [1000, 1.1, 4.22]\n",
    "probs = []\n",
    "x = [10.0]\n",
    "\n",
    "\n",
    "N = 10000;\n",
    "for T in T0\n",
    "    atom_params_temp = [86.9091835, T];\n",
    "    prob, _ = ColdAtoms.release_recapture(x, trap_params_temp, atom_params_temp, N; freq=10, skip=1000, harmonic=true)\n",
    "    probs.push!(prob)\n",
    "end;\n",
    "\n",
    "figure(figsize=(8,4), dpi=120)\n",
    "plot(T0, probs, color=\"red\", s=10, alpha=0.5, zorder=2, label=\"Data\")\n"
   ]
  },
  {
   "cell_type": "code",
   "execution_count": 42,
   "metadata": {},
   "outputs": [
    {
     "ename": "LoadError",
     "evalue": "TypeError: non-boolean (Nothing) used in boolean context",
     "output_type": "error",
     "traceback": [
      "TypeError: non-boolean (Nothing) used in boolean context",
      "",
      "Stacktrace:",
      " [1] release_evolve(tspan::Vector{Float64}, cord::Vector{Float64}, atom_params::Vector{Float64}, trap_params::Vector{Float64})",
      "   @ Main.ColdAtoms ~/ColdAtoms/src/basic_experiments.jl:29",
      " [2] release_recapture(tspan::Vector{Float64}, trap_params::Vector{Float64}, atom_params::Vector{Float64}, N::Int64; freq::Int64, skip::Int64, harmonic::Bool)",
      "   @ Main.ColdAtoms ~/ColdAtoms/src/basic_experiments.jl:42",
      " [3] top-level scope",
      "   @ In[42]:2"
     ]
    }
   ],
   "source": [
    "atom_params_temp = [86.9091835, 20.0];\n",
    "prob, _ = ColdAtoms.release_recapture([10.0], trap_params_temp, atom_params_temp, N; freq=10, skip=1000, harmonic=true)"
   ]
  }
 ],
 "metadata": {
  "kernelspec": {
   "display_name": "Julia 1.9.3",
   "language": "julia",
   "name": "julia-1.9"
  },
  "language_info": {
   "file_extension": ".jl",
   "mimetype": "application/julia",
   "name": "julia",
   "version": "1.9.3"
  }
 },
 "nbformat": 4,
 "nbformat_minor": 2
}
