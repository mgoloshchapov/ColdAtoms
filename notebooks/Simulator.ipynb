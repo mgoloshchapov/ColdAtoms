{
 "cells": [
  {
   "cell_type": "code",
   "execution_count": null,
   "id": "f3bdea45",
   "metadata": {},
   "outputs": [],
   "source": [
    "using PyPlot\n",
    "\n",
    "using QuantumOptics\n",
    "using LinearAlgebra\n",
    "using Interpolations\n",
    "using SplitApplyCombine\n",
    "using DifferentialEquations\n",
    "using SimpleDiffEq\n",
    "\n",
    "#Random number generation\n",
    "using Statistics\n",
    "using Distributions\n",
    "using Random\n",
    "\n",
    "#Physical constants\n",
    "using PhysicalConstants.CODATA2018: c_0, k_B, m_u\n",
    "using Unitful\n",
    "\n",
    "#Read and write CSV files\n",
    "using DataFrames\n",
    "using CSV\n",
    "\n",
    "#Check time left to execute and benchmark functions\n",
    "using ProgressMeter\n",
    "using BenchmarkTools"
   ]
  },
  {
   "cell_type": "code",
   "execution_count": null,
   "id": "a7c46a38",
   "metadata": {},
   "outputs": [],
   "source": [
    "include(\"../src/atom_sampler.jl\");\n",
    "include(\"../src/lasernoise_sampler.jl\");\n",
    "include(\"../src/utilities.jl\");\n",
    "include(\"../src/rydberg_model.jl\");"
   ]
  },
  {
   "cell_type": "markdown",
   "id": "d07233ec",
   "metadata": {},
   "source": [
    "$\\hat{H} = -\\Delta(t) \\hat{n}_p - \\delta(t) \\hat{n}_r + \\frac{\\Omega_r(t)}{2} e^{i \\phi_r(t)}\\hat{\\sigma}_{gp}+ \\frac{\\Omega_b(t)}{2}e^{i \\phi_b(t)}\\hat{\\sigma}_{pr}+h.c.$\n",
    "\n",
    "- $\\phi_r(t), \\phi_b(t)$ - phase noise from red and blue laser\n",
    "\n",
    "\n",
    "- $\\Omega_r(t), \\Omega_b(t)$ - atom dynamics and laser amplitude noise\n",
    "\n",
    "\n",
    "- $\\Delta(t), \\delta(t)$ - Doppler shifts for red and blue laser\n",
    "\n",
    "\n",
    "- $\\left| g \\right>,\\left| p \\right>,\\left| r \\right>, \\left| gt \\right>$ - basis"
   ]
  },
  {
   "cell_type": "markdown",
   "id": "b27f3417",
   "metadata": {},
   "source": [
    "__Params__\n",
    "\n",
    "atom_params = [$m, T$]\n",
    "\n",
    "\n",
    "trap_params = [$U_0, w_0, z_0$]\n",
    "\n",
    "___\n",
    "\n",
    "red_laser_params = [$ \\Omega_0^{(r)}, w_0^{(r)}, z_0^{(r)}$]\n",
    "\n",
    "blue_laser_params = [$ \\Omega_0^{(b)}, w_0^{(b)}, z_0^{(b)}$]\n",
    "\n",
    "___\n",
    "red_laser_phase_params = [$h_0^{(r)}, h_g^{(r)}, \\sigma_g ^{(r)}, f_g^{(r)}$]\n",
    "\n",
    "blue_laser_phase_params = [$h_0^{(b)}, h_g^{(b)}, \\sigma_g ^{(b)}, f_g^{(b)}$]\n",
    "___\n",
    "\n",
    "detuning_params = [$\\Delta_0, \\delta_0$]\n",
    "\n",
    "\n",
    "decay_params = [$\\Gamma_g, \\Gamma_{gt}$]\n",
    "___\n",
    "\n",
    "contrast_params = [$\\varepsilon, \\varepsilon', \\eta$]\n",
    "\n",
    "___\n",
    "\n",
    "\n",
    "\n",
    "__Simulation pipeline__\n",
    "\n",
    "__1.__ Generate N samples of atom initial conditions in trap $(x_i, v_i, z_i, vx_i, vy_i, vz_i)$.\n",
    "\n",
    "- input: atom_params, trap_params\n",
    "\n",
    "\n",
    "\n",
    "- output: N samples of initial conditions $[[x_i, y_i, z_i, vx_i, vy_i, vz_i],...]$\n",
    "\n",
    "\n",
    "\n",
    "__2.__ Generate phase amplitudes of blue and red laser: $S_\\phi^{(r)}, S_\\phi^{(b)}$\n",
    "\n",
    "- input: red_laser_phase_params, blue_laser_phase_params\n",
    "\n",
    "\n",
    "\n",
    "- output: amplitudes_red, amplitudes_blue\n",
    "\n",
    "\n",
    "\n",
    "__3.__ Run simulation \n",
    "\n",
    "\n",
    "- input: t, samples, amplitudes_red, amplitudes_blue, detuning_params\n",
    "\n",
    "\n",
    "- output: averaged density matrix $\\rho(t) = \\frac{1}{N}\\overset{N}{\\underset{i=1}{\\sum }}\\rho_i(t)$ for states $\\left| g \\right>, \\left| p \\right>, \\left| r \\right>, \\left| g' \\right>$\n",
    "\n",
    "\n",
    "\n",
    "\n",
    "__4.__ Calculate expectation values"
   ]
  },
  {
   "cell_type": "markdown",
   "id": "47e9f3d4",
   "metadata": {},
   "source": [
    "__Unit scales__"
   ]
  },
  {
   "cell_type": "markdown",
   "id": "b482dbf5",
   "metadata": {},
   "source": [
    "$E = \\varepsilon E_0, \\;\\;\\; T = t E_0 , \\;\\;\\; E_0 = k_B \\cdot 1\\mu K$\n",
    "\n",
    "\n",
    "\n",
    "\n",
    "\n",
    "$M = m m_u, \\;\\;\\; m_u \\simeq 1.66\\cdot10^{-27} kg$\n",
    "\n",
    "\n",
    "$V = v v_0, \\;\\;\\; v_0 = 1 \\mu m/ \\mu s, \\;\\;\\; vconst = \\sqrt{\\frac{E0}{m_u}} \\simeq 0.09\\mu m /\\mu s$\n",
    "\n",
    "\n",
    "$R = r r_0, \\;\\;\\; r_0 = 1\\mu m$"
   ]
  },
  {
   "cell_type": "code",
   "execution_count": null,
   "id": "44d894cc",
   "metadata": {},
   "outputs": [],
   "source": [
    "c = ustrip(u\"m/s\", c_0);  #Speed of light\n",
    "kB = ustrip(u\"J/K\", k_B)  #Boltzmann constant\n",
    "mu = ustrip(u\"kg\", m_u);  #Unit of atomic mass\n",
    "\n",
    "\n",
    "m = 86.9091835;       #Rb87 mass in a.u.\n",
    "E0 = kB * 1e-6;       #Characteristic energy in μK\n",
    "g0 = 9.81 * 1e-6;     #Gravity free fall acceleration\n",
    "vconst = sqrt(E0/mu); #Useful constant for kinetic energy\n",
    "r0 = 1e-6;            #Characteristic distance in m"
   ]
  },
  {
   "cell_type": "markdown",
   "id": "a9d250de",
   "metadata": {},
   "source": [
    "_Trap frequencies_\n",
    "\n",
    "$\\omega_r = \\sqrt{\\frac{4 U_0}{m m_u w_0^2}} = \\frac{2}{\\sqrt{m}}\\frac{1}{w_0} \\sqrt{\\frac{U_0}{E_0}}\\sqrt{\\frac{E_0}{m_u}} = 2 \\frac{v_{const}}{w_0}  \\sqrt{\\frac{u_0}{m}}$,\n",
    "\n",
    "$\\omega_z = \\sqrt{\\frac{2 U_0}{m z_0^2}} = \\sqrt{2} \\frac{v_{const}}{w_0}  \\sqrt{\\frac{u_0}{m}}$.\n",
    "\n",
    "___\n",
    "\n",
    "_Atom dynamics_\n",
    "\n",
    "$r(t)=r_i \\cos(\\omega t) + \\frac{v_{i}}{\\omega}\\sin(\\omega t)$,\n",
    "\n",
    "$v(t)=v_{i}\\cos(\\omega t) - \\omega r_i \\sin(\\omega t)$.\n",
    "___"
   ]
  },
  {
   "cell_type": "markdown",
   "id": "b2080715",
   "metadata": {},
   "source": [
    "__Simulation__"
   ]
  },
  {
   "cell_type": "code",
   "execution_count": null,
   "id": "8ce86658",
   "metadata": {},
   "outputs": [],
   "source": [
    "function simulation(\n",
    "        tspan, ψ0, \n",
    "        \n",
    "        samples,\n",
    "        \n",
    "        f,\n",
    "        red_laser_phase_amplitudes,\n",
    "        blue_laser_phase_amplitudes,\n",
    "        \n",
    "        red_laser_params,\n",
    "        blue_laser_params,\n",
    "        \n",
    "        detuning_params,\n",
    "        decay_params;\n",
    "        \n",
    "        laser_noise=true,\n",
    "        atom_dynamics=true,\n",
    "        method=\"master\"\n",
    "    )\n",
    "    \n",
    "    N = length(samples);\n",
    "    ωr, ωz = trap_frequencies(atom_params, trap_params);\n",
    "    \n",
    "    Δ0, δ0 = detuning_params;\n",
    "    J, Jdagger = JumpOperators(decay_params);\n",
    "    \n",
    "    ρ_mean = [zero(ψ0 ⊗ dagger(ψ0)) for _ ∈ 1:length(tspan)];\n",
    "    \n",
    "    @showprogress for i ∈ 1:N\n",
    "        #Atom initial conditions\n",
    "        xi, yi, zi, vxi, vyi, vzi = samples[i];\n",
    "        \n",
    "\n",
    "        #Atom trajectories\n",
    "        X(t) = R(t, xi, vxi, ωr);\n",
    "        Y(t) = R(t, yi, vyi, ωr);\n",
    "        Z(t) = R(t, zi, vzi, ωz);\n",
    "        Vz(t) = V(t, zi, vzi, ωz);\n",
    "\n",
    "\n",
    "        #Generate phase noise traces for red and blue lasers\n",
    "        ϕ_red_res = ϕ(tspan, f, red_laser_phase_amplitudes);\n",
    "        ϕ_blue_res = ϕ(tspan, f, blue_laser_phase_amplitudes);\n",
    "\n",
    "        #Interpolate phase noise traces to pass to hamiltonian\n",
    "        nodes = (tspan, );\n",
    "        ϕ_red = interpolate(nodes, ϕ_red_res, Gridded(Linear()));\n",
    "        ϕ_blue = interpolate(nodes, ϕ_blue_res, Gridded(Linear()));\n",
    "        \n",
    "        #Hamiltonian params trajectories\n",
    "        δ_temp(t) = δ(Vz(t), red_laser_params, blue_laser_params) .+ δ0;\n",
    "        Δ_temp(t) = Δ(Vz(t), red_laser_params);\n",
    "        Ωr_temp(t) = exp.(1.0im .* ϕ_red(t)) .* Ω(X(t), Y(t), Z(t), red_laser_params);\n",
    "        Ωb_temp(t) = exp.(1.0im .* ϕ_blue(t)) .* Ω(X(t), Y(t), Z(t), blue_laser_params);\n",
    "        \n",
    "        #Hamiltonian\n",
    "        H_temp(t) = TimeDependentSum(\n",
    "        [\n",
    "        t -> -Δ_temp(t),\n",
    "        t -> -δ_temp(t),\n",
    "        t -> Ωr_temp(t) ./2.0,\n",
    "        t -> conj.(Ωr_temp(t)) ./2.0,\n",
    "        t -> Ωb_temp(t)/2.0,\n",
    "        t -> conj.(Ωb_temp(t)) ./2.0,\n",
    "        ],\n",
    "        \n",
    "        [\n",
    "        np,\n",
    "        nr,\n",
    "        σgp,\n",
    "        σpg,\n",
    "        σpr,\n",
    "        σrp  \n",
    "        ]\n",
    "        );\n",
    "        \n",
    "        #Returns hamiltonian and jump operators in a form required by timeevolution.master_dynamic\n",
    "        super_operator(t, psi) = [H_temp(t), J, Jdagger];\n",
    "        # super_operator(t, psi) = H_temp(t);\n",
    "        \n",
    "        # #Time evolution\n",
    "        # if method == \"master\"\n",
    "        #     tout, ρ = timeevolution.master_dynamic(tspan, ψ0 ⊗ dagger(ψ0), super_operator);\n",
    "        # elseif method == \"schroedinger\"\n",
    "        #     tout, ψ = timeevolution.schroedinger_dynamic(tspan, ψ0, super_operator);\n",
    "        #     ρ = ψ ⊗ dagger(ψ);\n",
    "        # tout, ψ = timeevolution.mcwf_dynamic(tspan, ψ0, super_operator);\n",
    "        tout, ρ = timeevolution.master_dynamic(tspan, ψ0 ⊗ dagger(ψ0), super_operator);\n",
    "        # ρ = ψ .⊗ dagger.(ψ);\n",
    "\n",
    "        ρ_mean = ρ_mean .+ ρ;\n",
    "    end;\n",
    "\n",
    "    return ρ_mean/N\n",
    "end;"
   ]
  },
  {
   "cell_type": "markdown",
   "id": "867cc58a",
   "metadata": {},
   "source": [
    "__Test__"
   ]
  },
  {
   "cell_type": "code",
   "execution_count": null,
   "id": "6ee02c8e",
   "metadata": {},
   "outputs": [],
   "source": [
    "λ = 0.852;\n",
    "w0 = 1.2;\n",
    "z0 = w0_to_z0(w0, λ)"
   ]
  },
  {
   "cell_type": "code",
   "execution_count": null,
   "id": "a91075af",
   "metadata": {},
   "outputs": [],
   "source": [
    "atom_params = [m, 50.0];\n",
    "trap_params = [1000.0, w0, z0];\n",
    "\n",
    "samples, acc_rate = boltzmann_samples(trap_params, atom_params, 200; skip=5000, freq=1000);\n",
    "acc_rate"
   ]
  },
  {
   "cell_type": "code",
   "execution_count": null,
   "id": "5b7b816d",
   "metadata": {},
   "outputs": [],
   "source": [
    "samples_visualise(samples)\n",
    "gcf()"
   ]
  },
  {
   "cell_type": "code",
   "execution_count": null,
   "id": "7883cc7e",
   "metadata": {},
   "outputs": [],
   "source": [
    "#Saffman params\n",
    "h0 = 13.0 * 1e-6;   #MHz^2/MHz\n",
    "hg1 = 25.0 * 1e-6;  #MHz^2/MHz\n",
    "hg2 = 2.0e3 * 1e-6; #MHz^2/MHz\n",
    "fg1 = 130.0 * 1e-3; #MHz\n",
    "fg2 = 234.0 * 1e-3; #MHz\n",
    "σg1 = 18.0 * 1e-3;  #MHz\n",
    "σg2 = 1.5 * 1e-3;   #MHz\n",
    "\n",
    "red_laser_params = [2π * 14.0, 5.0, 5.0*3.68];\n",
    "blue_laser_params = [2π * 14.0, 5.0, 5.0*3.68];\n",
    "\n",
    "red_laser_phase_params  = [h0, [hg1, hg2], [σg1, σg2], [fg1, fg2]];\n",
    "blue_laser_phase_params = [h0, [hg1, hg2], [σg1, σg2], [fg1, fg2]];\n",
    "\n",
    "tspan1 = [0.0:0.05:30.0;];\n",
    "f = [0.5:0.01:10.0;];\n",
    "\n",
    "red_laser_phase_amplitudes = ϕ_amplitudes(f, red_laser_phase_params);\n",
    "blue_laser_phase_amplitudes = ϕ_amplitudes(f, blue_laser_phase_params);"
   ]
  },
  {
   "cell_type": "code",
   "execution_count": null,
   "id": "1bd70738",
   "metadata": {},
   "outputs": [],
   "source": [
    "detuning_params = [2.0*π * 740.0, 0.0];\n",
    "Γ = 2.0*π*6;\n",
    "decay_params = [Γ/4, 3*Γ/4];\n",
    "\n",
    "ψ0 = g;\n",
    "ρ0 = ψ0⊗dagger(ψ0);"
   ]
  },
  {
   "cell_type": "code",
   "execution_count": 38,
   "id": "01cc8f75",
   "metadata": {},
   "outputs": [
    {
     "name": "stderr",
     "output_type": "stream",
     "text": [
      "\r\u001b[32mProgress:   1%|▍                                        |  ETA: 0:41:01\u001b[39m\u001b[K"
     ]
    },
    {
     "name": "stderr",
     "output_type": "stream",
     "text": [
      "\r\u001b[32mProgress:   2%|▋                                        |  ETA: 0:39:29\u001b[39m\u001b[K"
     ]
    },
    {
     "name": "stderr",
     "output_type": "stream",
     "text": [
      "\r\u001b[32mProgress:   2%|▉                                        |  ETA: 0:39:36\u001b[39m\u001b[K"
     ]
    },
    {
     "name": "stderr",
     "output_type": "stream",
     "text": [
      "\r\u001b[32mProgress:   2%|█                                        |  ETA: 0:39:21\u001b[39m\u001b[K"
     ]
    },
    {
     "name": "stderr",
     "output_type": "stream",
     "text": [
      "\r\u001b[32mProgress:   3%|█▎                                       |  ETA: 0:39:30\u001b[39m\u001b[K"
     ]
    },
    {
     "name": "stderr",
     "output_type": "stream",
     "text": [
      "\r\u001b[32mProgress:   4%|█▍                                       |  ETA: 0:38:38\u001b[39m\u001b[K"
     ]
    },
    {
     "name": "stderr",
     "output_type": "stream",
     "text": [
      "\r\u001b[32mProgress:   4%|█▋                                       |  ETA: 0:38:49\u001b[39m\u001b[K"
     ]
    },
    {
     "name": "stderr",
     "output_type": "stream",
     "text": [
      "\r\u001b[32mProgress:   4%|█▉                                       |  ETA: 0:37:38\u001b[39m\u001b[K"
     ]
    },
    {
     "name": "stderr",
     "output_type": "stream",
     "text": [
      "\r\u001b[32mProgress:   5%|██                                       |  ETA: 0:36:32\u001b[39m\u001b[K"
     ]
    },
    {
     "name": "stderr",
     "output_type": "stream",
     "text": [
      "\r\u001b[32mProgress:   6%|██▎                                      |  ETA: 0:35:29\u001b[39m\u001b[K"
     ]
    },
    {
     "name": "stderr",
     "output_type": "stream",
     "text": [
      "\r\u001b[32mProgress:   6%|██▌                                      |  ETA: 0:34:34\u001b[39m\u001b[K"
     ]
    },
    {
     "name": "stderr",
     "output_type": "stream",
     "text": [
      "\r\u001b[32mProgress:   6%|██▋                                      |  ETA: 0:33:46\u001b[39m\u001b[K"
     ]
    },
    {
     "name": "stderr",
     "output_type": "stream",
     "text": [
      "\r\u001b[32mProgress:   7%|██▉                                      |  ETA: 0:33:20\u001b[39m\u001b[K"
     ]
    },
    {
     "name": "stderr",
     "output_type": "stream",
     "text": [
      "\r\u001b[32mProgress:   8%|███▏                                     |  ETA: 0:33:02\u001b[39m\u001b[K"
     ]
    }
   ],
   "source": [
    "ρ_mean_24 = simulation_stable(\n",
    "        tspan1, ρ0, \n",
    "        \n",
    "        samples,\n",
    "        \n",
    "        f,\n",
    "        red_laser_phase_amplitudes,\n",
    "        blue_laser_phase_amplitudes,\n",
    "        \n",
    "        red_laser_params,\n",
    "        blue_laser_params,\n",
    "        \n",
    "        detuning_params,\n",
    "        decay_params\n",
    "    );"
   ]
  },
  {
   "cell_type": "code",
   "execution_count": null,
   "id": "cf8015e2",
   "metadata": {},
   "outputs": [],
   "source": [
    "figure()\n",
    "plot(tspan, expect(nr, ρ_mean_24));\n",
    "plot(tspan, expect(nr, ρ_mean_44));\n",
    "ylim(0.0, 1.0)\n",
    "\n",
    "gcf()"
   ]
  },
  {
   "cell_type": "markdown",
   "id": "f90de000",
   "metadata": {},
   "source": [
    "__Conclusion__\n",
    "\n",
    "- It seems like $\\Delta$ has very large numerical value (740 MHz), which makes problem stiff. I can switch ODE solver.\n",
    "\n",
    "https://viralinstruction.com/posts/hardware/"
   ]
  },
  {
   "cell_type": "markdown",
   "id": "d5136da2",
   "metadata": {},
   "source": [
    "__Ideas for improvement__\n",
    "\n",
    "0. Julia has its own function profiler https://www.julia-vscode.org/docs/stable/userguide/profiler/ , https://docs.julialang.org/en/v1/stdlib/Profile/\n",
    "\n",
    "\n",
    "\n",
    "1. Replace [t->Ω(t), t->Ω(t)], [σab, σba] with single operator.\n",
    "\n",
    "\n",
    "\n",
    "2. Try to include detuning fluctuations into phase noise, less time-dependent terms in hamiltonian.\n",
    "\n",
    "\n",
    "\n",
    "3. Check time it takes to run interpolation of phase noise and compare it w/o interpolation.\n",
    "\n",
    "\n",
    "\n",
    "4. Maybe there are some recepies in Bloqade.jl how to speed up code."
   ]
  }
 ],
 "metadata": {
  "kernelspec": {
   "display_name": "Julia 1.8.2",
   "language": "julia",
   "name": "julia-1.8"
  },
  "language_info": {
   "file_extension": ".jl",
   "mimetype": "application/julia",
   "name": "julia",
   "version": "1.8.2"
  }
 },
 "nbformat": 4,
 "nbformat_minor": 5
}
