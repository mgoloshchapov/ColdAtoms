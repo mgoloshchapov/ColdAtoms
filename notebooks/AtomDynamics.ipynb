{
 "cells": [
  {
   "cell_type": "code",
   "execution_count": 39,
   "id": "af58c5a9",
   "metadata": {},
   "outputs": [],
   "source": [
    "using PyPlot\n",
    "using QuantumOptics\n",
    "using Statistics, Distributions, Random\n",
    "using PhysicalConstants.CODATA2018: c_0, k_B, m_u\n",
    "using Unitful\n",
    "\n",
    "using DataFrames\n",
    "using CSV\n",
    "\n",
    "using DifferentialEquations\n",
    "using LinearAlgebra\n",
    "\n",
    "using SplitApplyCombine"
   ]
  },
  {
   "cell_type": "code",
   "execution_count": 44,
   "id": "7c03295c",
   "metadata": {},
   "outputs": [
    {
     "name": "stderr",
     "output_type": "stream",
     "text": [
      "WARNING: redefinition of constant basis. This may fail, cause incorrect answers, or produce other errors.\n",
      "WARNING: redefinition of constant g. This may fail, cause incorrect answers, or produce other errors.\n",
      "WARNING: redefinition of constant p. This may fail, cause incorrect answers, or produce other errors.\n",
      "WARNING: redefinition of constant r. This may fail, cause incorrect answers, or produce other errors.\n",
      "WARNING: redefinition of constant gt. This may fail, cause incorrect answers, or produce other errors.\n",
      "WARNING: redefinition of constant σgp. This may fail, cause incorrect answers, or produce other errors.\n",
      "WARNING: redefinition of constant σpg. This may fail, cause incorrect answers, or produce other errors.\n",
      "WARNING: redefinition of constant σpr. This may fail, cause incorrect answers, or produce other errors.\n",
      "WARNING: redefinition of constant σrp. This may fail, cause incorrect answers, or produce other errors.\n",
      "WARNING: redefinition of constant np. This may fail, cause incorrect answers, or produce other errors.\n",
      "WARNING: redefinition of constant nr. This may fail, cause incorrect answers, or produce other errors.\n",
      "WARNING: redefinition of constant σgtp. This may fail, cause incorrect answers, or produce other errors.\n",
      "WARNING: redefinition of constant σpgt. This may fail, cause incorrect answers, or produce other errors.\n",
      "WARNING: redefinition of constant operators. This may fail, cause incorrect answers, or produce other errors.\n",
      "WARNING: replacing module ColdAtoms.\n",
      "WARNING: using ColdAtoms.trap_frequencies in module Main conflicts with an existing identifier.\n",
      "WARNING: using ColdAtoms.get_trap_params in module Main conflicts with an existing identifier.\n",
      "WARNING: using ColdAtoms.Sϕ in module Main conflicts with an existing identifier.\n",
      "WARNING: using ColdAtoms.w0_to_z0 in module Main conflicts with an existing identifier.\n",
      "WARNING: using ColdAtoms.simulation in module Main conflicts with an existing identifier.\n",
      "WARNING: using ColdAtoms.V in module Main conflicts with an existing identifier.\n",
      "WARNING: using ColdAtoms.Ω_twophoton in module Main conflicts with an existing identifier.\n",
      "WARNING: using ColdAtoms.samples_visualise in module Main conflicts with an existing identifier.\n",
      "WARNING: using ColdAtoms.p in module Main conflicts with an existing identifier.\n",
      "WARNING: using ColdAtoms.samples_generate in module Main conflicts with an existing identifier.\n",
      "WARNING: using ColdAtoms.r in module Main conflicts with an existing identifier.\n",
      "WARNING: using ColdAtoms.δ_twophoton in module Main conflicts with an existing identifier.\n",
      "WARNING: using ColdAtoms.T_twophoton in module Main conflicts with an existing identifier.\n",
      "WARNING: using ColdAtoms.g in module Main conflicts with an existing identifier.\n",
      "WARNING: using ColdAtoms.Ωr_required in module Main conflicts with an existing identifier.\n",
      "WARNING: using ColdAtoms.R in module Main conflicts with an existing identifier.\n",
      "WARNING: using ColdAtoms.gt in module Main conflicts with an existing identifier.\n",
      "WARNING: using ColdAtoms.ϕ_amplitudes in module Main conflicts with an existing identifier.\n",
      "WARNING: using ColdAtoms.ϕ in module Main conflicts with an existing identifier.\n"
     ]
    }
   ],
   "source": [
    "include(\"../src/atom_sampler.jl\");\n",
    "include(\"../src/lasernoise_sampler.jl\");\n",
    "include(\"../src/utilities.jl\");\n",
    "include(\"../src/rydberg_model.jl\");\n",
    "include(\"../src/ColdAtoms.jl\")\n",
    "\n",
    "using .ColdAtoms"
   ]
  },
  {
   "cell_type": "code",
   "execution_count": 4,
   "id": "5096196f",
   "metadata": {},
   "outputs": [
    {
     "data": {
      "text/plain": [
       "2-element Vector{Float64}:\n",
       "  9.42477796076938\n",
       " 28.274333882308138"
      ]
     },
     "metadata": {},
     "output_type": "display_data"
    }
   ],
   "source": [
    "include(\"../params/default.jl\")"
   ]
  },
  {
   "cell_type": "markdown",
   "id": "87e92b8f",
   "metadata": {},
   "source": [
    "### Atom in dipole trap, choice of constants."
   ]
  },
  {
   "cell_type": "markdown",
   "id": "d8776702",
   "metadata": {},
   "source": [
    "__Potential energy__\n",
    "\n",
    "$\\Pi = U_0 \\left(1 - \\frac{1}{1+(z/z_0)^2} exp\\left(\\frac{-2(x^2+y^2)}{w_0^2(1+(z/z_0)^2)}\\right) \\right)$\n",
    "\n",
    "\n",
    "__Kinetic energy__\n",
    "\n",
    "$K = \\frac{m V^2}{2}$\n",
    "\n",
    "\n",
    "__Total energy__\n",
    "\n",
    "$E = \\Pi + K$\n",
    "\n",
    "\n",
    "\n",
    "__Constants__\n",
    "\n",
    "$E = \\varepsilon E_0, \\;\\;\\; E_0 = 10\\mu K$\n",
    "\n",
    "\n",
    "$kT = t E_0$ \n",
    "\n",
    "\n",
    "$V = v v_0, \\;\\;\\; v_0 = \\sqrt{\\frac{E_0}{m}}$\n",
    "\n",
    "\n",
    "$R = r r_0, \\;\\;\\; r_0 = 1\\mu m$\n",
    "\n",
    "\n",
    "__Dimensionless units__\n",
    "\n",
    "\n",
    "$\\Pi =  u_0 E_0 \\left(1 - \\frac{1}{1+(z/z_0)^2} exp\\left(\\frac{-2(x^2+y^2+z^2)}{w_0^2(1+(z/z_0)^2)}\\right) \\right)$\n",
    "\n",
    "\n",
    "$K = E_0\\frac{v^2}{2}$\n",
    "\n",
    "\n",
    "$p(x,y,z,v_x,v_y,v_z) \\sim exp\\left(- \\frac{u_0}{t}\\left(1 - \\frac{1}{1+(z/z_0)^2} exp\\left(\\frac{-2(x^2+y^2+z^2)}{w_0^2(1+(z/z_0)^2)}\\right) \\right) \\right)exp\\left(- \\frac{v_x^2+v_y^2+v_z^2}{2t} \\right)$\n",
    "\n",
    "\n",
    "Markov Chain Monte Carlo is used to generate initial conditions $(x,y,z,v_x,v_y,v_z)|_{t=0}$"
   ]
  },
  {
   "cell_type": "markdown",
   "id": "df0aac4d",
   "metadata": {},
   "source": [
    "__Harmonic approximation__\n",
    "\n",
    "\n",
    "For $T\\ll U_0$ gaussian potential can be replaced with harmonic one.\n",
    "\n",
    "$U(x,y,z)=U_0\\left( \\frac{2(x^2+y^2)}{w_0^2} + \\frac{z^2}{z_0^2}\\right) = \n",
    "\\frac{m \\omega_r ^2 (x^2+y^2)}{2} + \\frac{m \\omega_z ^2 (z^2)}{2}$, where \n",
    "\n",
    "$\\omega_r = \\sqrt{\\frac{4 U_0}{m w_0^2}} = \\frac{2}{w_0} \\sqrt{\\frac{U_0}{E_0}}\\sqrt{\\frac{E_0}{m}} = 2 \\frac{v_0}{w_0}  \\sqrt{u_0}$\n",
    "\n",
    "$\\omega_z = \\sqrt{\\frac{2 U_0}{m z_0^2}} = \\sqrt{2}\\frac{v_0}{z_0}  \\sqrt{u_0}$.\n",
    "\n",
    "\n",
    "_In that case atom dynamics is integrable:_\n",
    "\n",
    "$H = \\frac{m \\omega_r ^2 (x^2+y^2)}{2} + \\frac{m \\omega_z ^2 (z^2)}{2} + \\frac{m(v_x^2+v_y^2+v_z^2)}{2}$\n",
    "\n",
    "$x(t)=x_0 \\cos(\\omega_r t) + \\frac{v_{x0}}{\\omega_r}\\sin(\\omega_r t)$,\n",
    "\n",
    "$y(t)=y_0 \\cos(\\omega_r t) + \\frac{v_{y0}}{\\omega_r}\\sin(\\omega_r t)$,\n",
    "\n",
    "$z(t)=z_0 \\cos(\\omega_r t) + \\frac{v_{z0}}{\\omega_z}\\sin(\\omega_r t)$\n",
    "\n",
    "$(x_0,y_0,z_0,v_{x0},v_{y0},v_{z0})$ can be sampled using Monte-Carlo"
   ]
  },
  {
   "cell_type": "markdown",
   "id": "0b767b98-32db-41c9-b2b6-a8b81dd496de",
   "metadata": {},
   "source": [
    "### Atom motion in dipole tweezer as a source of decoherence.\n",
    "\n",
    "Atom motion in optical tweezer leads to several effects, which cause decoherence of Rydberg two-photon excitation:\n",
    "\n",
    "- Doppler shifts\n",
    "\n",
    "- Position-dependent Rabi frequencies\n",
    "\n",
    "- Position-dependent AC Stark shifts"
   ]
  },
  {
   "cell_type": "markdown",
   "id": "560fc71a",
   "metadata": {},
   "source": [
    "### Doppler effect in two-level system(TLS). \n",
    "\n",
    "Sylvain de Léséleuc, Daniel Barredo, Vincent Lienhard, Antoine Browaeys, and Thierry Lahaye, \"Analysis of imperfections in the coherent optical excitation of single atoms to Rydberg states\"\n",
    "\n",
    "![Doppler effect](./images/Browayes_Doppler.png)"
   ]
  },
  {
   "cell_type": "code",
   "execution_count": 46,
   "id": "9882ffc4",
   "metadata": {},
   "outputs": [],
   "source": [
    "N = 2000;\n",
    "samples, acc_rate = samples_generate(trap_params, atom_params, N; freq=200, skip=2000, harmonic=false);\n",
    "samples_h, acc_rate_h = samples_generate(trap_params, atom_params, N*20; freq=200, skip=2000, harmonic=true);\n",
    "ColdAtoms.samples_visualise_rus(samples; samples_harmonic=samples_h, harmonic=true)\n",
    "gcf()\n",
    "savefig(\"/Users/goloshch/Desktop/Materials/QOTLabs/Деловое/Отчет_23/images/mcmc.svg\")\n",
    "savefig(\"/Users/goloshch/Desktop/Materials/QOTLabs/Деловое/Отчет_23/images/mcmc.pdf\")\n",
    "savefig(\"/Users/goloshch/Desktop/Materials/QOTLabs/Деловое/Отчет_23/images/mcmc.png\")"
   ]
  },
  {
   "cell_type": "code",
   "execution_count": 47,
   "id": "3fdb26ec",
   "metadata": {},
   "outputs": [
    {
     "data": {
      "image/png": "[encoded data removed]",
      "text/plain": [
       "Figure(PyObject <Figure size 800x800 with 4 Axes>)"
      ]
     },
     "metadata": {},
     "output_type": "display_data"
    }
   ],
   "source": [
    "ColdAtoms.samples_visualise_rus(samples)\n",
    "\n",
    "gcf()"
   ]
  },
  {
   "cell_type": "code",
   "execution_count": 9,
   "id": "758212ef-f4c2-472f-bd7f-00323ec0fc22",
   "metadata": {},
   "outputs": [
    {
     "data": {
      "text/plain": [
       "16-element Vector{Float64}:\n",
       "  0.0\n",
       "  1.0\n",
       "  2.0\n",
       "  3.0\n",
       "  4.0\n",
       "  5.0\n",
       "  6.0\n",
       "  7.0\n",
       "  8.0\n",
       "  9.0\n",
       " 10.0\n",
       " 11.0\n",
       " 12.0\n",
       " 13.0\n",
       " 14.0\n",
       " 15.0"
      ]
     },
     "metadata": {},
     "output_type": "display_data"
    }
   ],
   "source": [
    "tspan = (0.0, 10.0);\n",
    "basis = NLevelBasis(4);\n",
    "ψ0 = nlevelstate(basis, 1);\n",
    "\n",
    "λ_r = 0.795;\n",
    "λ_b = 0.420;\n",
    "w0_r = 5.0;\n",
    "w0_b = 5.0;\n",
    "z0_r = w0_to_z0(w0_r, λ_r);\n",
    "z0_b = w0_to_z0(w0_b, λ_b);\n",
    "\n",
    "red_laser_params = [2π * 14.0, w0_r, z0_r];\n",
    "blue_laser_params = [2π * 14.0, w0_b, z0_b];\n",
    "detuning_params = [2*π * 740.0, 0.0];\n",
    "tspan = [0.0:1.0:15.0;];\n",
    "\n",
    "\n",
    "# simulation_schroedinger(\n",
    "#     tspan, ψ0, \n",
    "\n",
    "#     red_laser_params,\n",
    "#     blue_laser_params,\n",
    "#     detuning_params,\n",
    "\n",
    "#     samples,\n",
    "\n",
    "#     [],\n",
    "#     [],\n",
    "#     [],\n",
    "\n",
    "#     laser_noise=false,\n",
    "#     atom_dynamics=true\n",
    "#     )"
   ]
  },
  {
   "cell_type": "code",
   "execution_count": 19,
   "id": "c8ff75a3",
   "metadata": {},
   "outputs": [
    {
     "ename": "UndefVarError",
     "evalue": "UndefVarError: t not defined",
     "output_type": "error",
     "traceback": [
      "UndefVarError: t not defined\n",
      "\n",
      "Stacktrace:\n",
      " [1] macro expansion\n",
      "   @ ~/ColdAtoms/src/rydberg_model.jl:215 [inlined]\n",
      " [2] macro expansion\n",
      "   @ ~/.julia/packages/ProgressMeter/vnCY0/src/ProgressMeter.jl:957 [inlined]\n",
      " [3] simulation_schroedinger(tspan::Vector{Float64}, ψ0::Ket{NLevelBasis{Int64}, Vector{ComplexF64}}, trap_params::Vector{Float64}, atom_params::Vector{Float64}, red_laser_params::Vector{Float64}, blue_laser_params::Vector{Float64}, detuning_params::Vector{Float64}, samples::Vector{Vector{Float64}}, f::Vector{Any}, red_laser_phase_amplitudes::Vector{Any}, blue_laser_phase_amplitudes::Vector{Any}; laser_noise::Bool)\n",
      "   @ Main ~/ColdAtoms/src/rydberg_model.jl:192\n",
      " [4] simulation_schroedinger(tspan::Vector{Float64}, ψ0::Ket{NLevelBasis{Int64}, Vector{ComplexF64}}, trap_params::Vector{Float64}, atom_params::Vector{Float64}, red_laser_params::Vector{Float64}, blue_laser_params::Vector{Float64}, detuning_params::Vector{Float64}, samples::Vector{Vector{Float64}}, f::Vector{Any}, red_laser_phase_amplitudes::Vector{Any}, blue_laser_phase_amplitudes::Vector{Any})\n",
      "   @ Main ~/ColdAtoms/src/rydberg_model.jl:167\n",
      " [5] top-level scope\n",
      "   @ ~/ColdAtoms/notebooks/AtomDynamics.ipynb:1"
     ]
    }
   ],
   "source": [
    "ρ_mean = simulation_schroedinger(\n",
    "    tspan, ψ0, \n",
    "    trap_params,\n",
    "    atom_params,\n",
    "\n",
    "    red_laser_params,\n",
    "    blue_laser_params,\n",
    "    detuning_params,\n",
    "    \n",
    "    samples,\n",
    "    \n",
    "    [],\n",
    "    [],\n",
    "    [],\n",
    ")"
   ]
  },
  {
   "cell_type": "markdown",
   "id": "725d44a2",
   "metadata": {},
   "source": [
    "### Finite contrast, Browayes."
   ]
  },
  {
   "cell_type": "markdown",
   "id": "8ac9820f",
   "metadata": {},
   "source": [
    "- if I measure recapture probability $p_{recap}$ from switch-off time $\\tau$, I can retrieve dsitribution of atoms over velocities. It seems like $\\frac{d}{d\\tau}p_{recap}(\\tau)$ should give some insight about it.\n",
    "\n",
    "\n",
    "- $\\varepsilon ' \\simeq \\Gamma_R t_{recap}$, where $t_{recap}=\\int_{0}^{\\infty} p_{recap}(t)dt$, $\\Gamma_R $ - Rydberg lifetime\n",
    "\n",
    "\n",
    "\n",
    "- recapture probability is modeled using Monte-Carlo modelling with free-flight regime, anti-trapping"
   ]
  }
 ],
 "metadata": {
  "kernelspec": {
   "display_name": "Julia 1.9.3",
   "language": "julia",
   "name": "julia-1.9"
  },
  "language_info": {
   "file_extension": ".jl",
   "mimetype": "application/julia",
   "name": "julia",
   "version": "1.9.3"
  }
 },
 "nbformat": 4,
 "nbformat_minor": 5
}
