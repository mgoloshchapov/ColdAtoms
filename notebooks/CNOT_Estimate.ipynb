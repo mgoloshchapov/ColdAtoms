{
 "cells": [
  {
   "cell_type": "code",
   "execution_count": 8,
   "metadata": {},
   "outputs": [
    {
     "name": "stderr",
     "output_type": "stream",
     "text": [
      "WARNING: replacing module ColdAtoms.\n"
     ]
    }
   ],
   "source": [
    "using PyPlot\n",
    "using QuantumOptics\n",
    "using Distributions\n",
    "using LinearAlgebra\n",
    "include(\"../src/ColdAtoms.jl\");\n",
    "using .ColdAtoms"
   ]
  },
  {
   "cell_type": "code",
   "execution_count": 17,
   "metadata": {},
   "outputs": [
    {
     "data": {
      "text/plain": [
       "2×4 Matrix{Float64}:\n",
       " -0.499331   0.305007   0.8686    -0.91116\n",
       "  1.52988   -1.40267   -0.465105  -0.525634"
      ]
     },
     "execution_count": 17,
     "metadata": {},
     "output_type": "execute_result"
    }
   ],
   "source": [
    "mu = zeros(2)\n",
    "sigma = Diagonal([1, 1]);\n",
    "\n",
    "dist = MvNormal(mu, sigma)\n",
    "\n",
    "a = rand(dist, 4)"
   ]
  },
  {
   "cell_type": "code",
   "execution_count": 21,
   "metadata": {},
   "outputs": [
    {
     "data": {
      "text/plain": [
       "4-element Vector{Float64}:\n",
       " -0.49933124144735164\n",
       "  0.30500667126622805\n",
       "  0.8685995499425107\n",
       " -0.9111600319243064"
      ]
     },
     "execution_count": 21,
     "metadata": {},
     "output_type": "execute_result"
    }
   ],
   "source": [
    "a[1,1:4]"
   ]
  },
  {
   "cell_type": "code",
   "execution_count": null,
   "metadata": {},
   "outputs": [],
   "source": []
  }
 ],
 "metadata": {
  "kernelspec": {
   "display_name": "Julia 1.9.3",
   "language": "julia",
   "name": "julia-1.9"
  },
  "language_info": {
   "file_extension": ".jl",
   "mimetype": "application/julia",
   "name": "julia",
   "version": "1.9.3"
  }
 },
 "nbformat": 4,
 "nbformat_minor": 2
}
